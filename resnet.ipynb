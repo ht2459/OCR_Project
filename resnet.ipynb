{
 "cells": [
  {
   "cell_type": "markdown",
   "metadata": {},
   "source": [
    "## Deep Residual Learning for Image Seperation"
   ]
  },
  {
   "cell_type": "code",
   "execution_count": 1,
   "metadata": {},
   "outputs": [],
   "source": [
    "import tensorflow as tf\n",
    "import numpy as np\n",
    "import matplotlib.pyplot as plt\n",
    "import random\n",
    "import cv2\n",
    "import os\n",
    "from utils.image_processing import ImageGenerator\n",
    "from utils.image_manipulation import rotate, flip\n",
    "from PIL import Image\n",
    "from os import listdir\n",
    "\n",
    "\n",
    "%matplotlib inline\n",
    "%load_ext autoreload\n",
    "%autoreload 2"
   ]
  },
  {
   "cell_type": "markdown",
   "metadata": {},
   "source": [
    "### Generate Trainning Dataset"
   ]
  },
  {
   "cell_type": "code",
   "execution_count": 4,
   "metadata": {},
   "outputs": [],
   "source": [
    "data_dir = '/data/Hangyu_Folder/OCR_Project/data/train_data/'"
   ]
  },
  {
   "cell_type": "code",
   "execution_count": null,
   "metadata": {},
   "outputs": [],
   "source": [
    "#生成图片时，需要注意，红色覆盖黑色/黑色覆盖红色，随机，或者重合"
   ]
  },
  {
   "cell_type": "code",
   "execution_count": 4,
   "metadata": {},
   "outputs": [],
   "source": [
    "#text background\n",
    "cn_pos = [data_dir+'chinese_pos/'+f for f in listdir(data_dir+'chinese_pos/')]\n",
    "cn_neg = [data_dir+'chinese_neg/'+f for f in listdir(data_dir+'chinese_neg/')]\n",
    "en_pos = [data_dir+'english_pos/'+f for f in listdir(data_dir+'english_pos/')]\n",
    "en_neg = [data_dir+'english_neg/'+f for f in listdir(data_dir+'english_neg/')]\n",
    "text = cn_pos + cn_neg + en_pos + en_neg"
   ]
  },
  {
   "cell_type": "code",
   "execution_count": 5,
   "metadata": {},
   "outputs": [],
   "source": [
    "#logo\n",
    "logos = []\n",
    "logos.extend([data_dir+'logo_grey_ru/'+f for f in listdir(data_dir+'logo_grey_ru/')])\n",
    "logos.extend([data_dir+'logo_grey_en/'+f for f in listdir(data_dir+'logo_grey_en/')])\n",
    "logos.extend([data_dir+'logo_col_cn/'+f for f in listdir(data_dir+'logo_col_cn/')])"
   ]
  },
  {
   "cell_type": "code",
   "execution_count": 2,
   "metadata": {},
   "outputs": [],
   "source": [
    "if not os.path.exists('/data/Hangyu_Folder/OCR_Project/data/train_data_generated/'):\n",
    "    os.makedirs('/data/Hangyu_Folder/OCR_Project/data/train_data_generated')\n",
    "    os.makedirs('/data/Hangyu_Folder/OCR_Project/data/train_data_generated/input')\n",
    "    os.makedirs('/data/Hangyu_Folder/OCR_Project/data/train_data_generated/label')\n",
    "    \n",
    "input_dir = '/data/Hangyu_Folder/OCR_Project/data/train_data_generated/input'\n",
    "label_dir = '/data/Hangyu_Folder/OCR_Project/data/train_data_generated/label'"
   ]
  },
  {
   "cell_type": "code",
   "execution_count": 7,
   "metadata": {},
   "outputs": [],
   "source": [
    "flip_mode = ['h', 'v', 'hv']"
   ]
  },
  {
   "cell_type": "code",
   "execution_count": 42,
   "metadata": {},
   "outputs": [],
   "source": [
    "counter = 0\n",
    "for iteration in range(5):\n",
    "    for text_file in text:\n",
    "        orig_text = ImageGenerator(text_file)\n",
    "        Image.fromarray(orig_text.image.astype(np.uint8)).save(f'{label_dir}/{counter}.png')\n",
    "        random_logo = flip(rotate(Image.open(random.choice(logos)), np.random.randint(0,360)), random.choice(flip_mode))\n",
    "        scaled_logo = orig_text.scale_image(Image.fromarray(random_logo.astype(np.uint8)))\n",
    "        Image.fromarray(scaled_logo + orig_text.image).save(f'{input_dir}/{counter}.png')\n",
    "        counter += 1"
   ]
  },
  {
   "cell_type": "markdown",
   "metadata": {},
   "source": [
    "### Resnet "
   ]
  },
  {
   "cell_type": "code",
   "execution_count": 3,
   "metadata": {},
   "outputs": [],
   "source": [
    "from PIL import Image\n",
    "import os\n",
    "import cv2\n",
    "image_list = []\n",
    "for filename in os.listdir(input_dir)[:100]:\n",
    "    im=cv2.imread(input_dir + '/' +filename)\n",
    "    image_list.append(im)"
   ]
  },
  {
   "cell_type": "code",
   "execution_count": null,
   "metadata": {},
   "outputs": [],
   "source": [
    "tf.image.resize(image_list[0],[32,32])"
   ]
  },
  {
   "cell_type": "code",
   "execution_count": 7,
   "metadata": {},
   "outputs": [],
   "source": [
    "imgName = os.listdir(input_dir)\n",
    "num_img = len(imgName)\n",
    "whole_path = []\n",
    "for i in range(num_img):\n",
    "    whole_path.append(input_dir + imgName[i])"
   ]
  },
  {
   "cell_type": "code",
   "execution_count": null,
   "metadata": {},
   "outputs": [],
   "source": [
    "import tensorflow as tf\n",
    "from ResidualAttentionNetwork import ResidualAttentionNetwork\n",
    "from tensorflow.keras.optimizers import SGD\n",
    "\n",
    "%load_ext autoreload\n",
    "%autoreload 2"
   ]
  },
  {
   "cell_type": "code",
   "execution_count": null,
   "metadata": {},
   "outputs": [],
   "source": [
    "(X_train, y_train), (X_test, y_test) = #resize image, 要不然原始图片太大\n",
    "\n",
    "\n",
    "X_train = X_train.astype('float32') / 255\n",
    "X_test = X_test.astype('float32') / 255\n",
    "\n",
    "input_shape = X_train.shape[1:]"
   ]
  },
  {
   "cell_type": "code",
   "execution_count": null,
   "metadata": {},
   "outputs": [],
   "source": [
    "sgd = SGD(lr=1e-3, decay=1e-4, momentum=0.9, nesterov=True)"
   ]
  },
  {
   "cell_type": "code",
   "execution_count": null,
   "metadata": {},
   "outputs": [],
   "source": [
    "model = ResidualAttentionNetwork(input_shape=input_shape, output_size=output_size, mask_activation='#待输入').Attention_56()\n",
    "model.compile(optimizer=sgd, loss='###MSE', metrics=['accuracy'])"
   ]
  }
 ],
 "metadata": {
  "kernelspec": {
   "display_name": "Python 3",
   "language": "python",
   "name": "python3"
  },
  "language_info": {
   "codemirror_mode": {
    "name": "ipython",
    "version": 3
   },
   "file_extension": ".py",
   "mimetype": "text/x-python",
   "name": "python",
   "nbconvert_exporter": "python",
   "pygments_lexer": "ipython3",
   "version": "3.8.5"
  }
 },
 "nbformat": 4,
 "nbformat_minor": 4
}
